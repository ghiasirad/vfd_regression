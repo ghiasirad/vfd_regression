{
  "metadata": {
    "kernelspec": {
      "display_name": "Python 3",
      "language": "python",
      "name": "python3"
    },
    "language_info": {
      "codemirror_mode": {
        "name": "ipython",
        "version": 2
      },
      "file_extension": ".py",
      "mimetype": "text/x-python",
      "name": "python",
      "nbconvert_exporter": "python"
    },
    "name": "Predicting VFD in Features_topn_smogned"
  },
  "nbformat": 4,
  "nbformat_minor": 0,
  "cells": [
    {
      "cell_type": "markdown",
      "metadata": {},
      "source": [
        "# Predicting VFD in Features_topn_smogned"
      ]
    },
    {
      "cell_type": "markdown",
      "metadata": {},
      "source": [
        "### Notebook automatically generated from your model"
      ]
    },
    {
      "cell_type": "markdown",
      "metadata": {},
      "source": [
        "Model XGBoost (All), trained on 2022-01-23 20:45:29."
      ]
    },
    {
      "cell_type": "markdown",
      "metadata": {},
      "source": [
        "#### Generated on 2022-01-31 06:32:44.057160"
      ]
    },
    {
      "cell_type": "markdown",
      "metadata": {},
      "source": [
        "prediction\nThis notebook will reproduce the steps for a REGRESSION on  Features_topn_smogned.\nThe main objective is to predict the variable VFD"
      ]
    },
    {
      "cell_type": "markdown",
      "metadata": {},
      "source": [
        "#### Warning"
      ]
    },
    {
      "cell_type": "markdown",
      "metadata": {},
      "source": [
        "The goal of this notebook is to provide an easily readable and explainable code that reproduces the main steps\nof training the model. It is not complete: some of the preprocessing done by the DSS visual machine learning is not\nreplicated in this notebook. This notebook will not give the same results and model performance as the DSS visual machine\nlearning model."
      ]
    },
    {
      "cell_type": "markdown",
      "metadata": {},
      "source": [
        "Let\u0027s start with importing the required libs :"
      ]
    },
    {
      "cell_type": "code",
      "execution_count": 0,
      "metadata": {
        "collapsed": false
      },
      "outputs": [],
      "source": [
        "import sys\nimport dataiku\nimport numpy as np\nimport pandas as pd\nimport sklearn as sk\nimport dataiku.core.pandasutils as pdu\nfrom dataiku.doctor.preprocessing import PCA\nfrom collections import defaultdict, Counter"
      ]
    },
    {
      "cell_type": "markdown",
      "metadata": {},
      "source": [
        "And tune pandas display options:"
      ]
    },
    {
      "cell_type": "code",
      "execution_count": 0,
      "metadata": {
        "collapsed": false
      },
      "outputs": [],
      "source": [
        "pd.set_option(\u0027display.width\u0027, 3000)\npd.set_option(\u0027display.max_rows\u0027, 200)\npd.set_option(\u0027display.max_columns\u0027, 200)"
      ]
    },
    {
      "cell_type": "markdown",
      "metadata": {},
      "source": [
        "#### Importing base data"
      ]
    },
    {
      "cell_type": "markdown",
      "metadata": {},
      "source": [
        "The first step is to get our machine learning dataset:"
      ]
    },
    {
      "cell_type": "code",
      "execution_count": 0,
      "metadata": {
        "collapsed": false
      },
      "outputs": [],
      "source": [
        "# We apply the preparation that you defined. You should not modify this.\npreparation_steps \u003d []\npreparation_output_schema \u003d {\u0027columns\u0027: [{\u0027name\u0027: \u0027StudyID_Int\u0027, \u0027type\u0027: \u0027bigint\u0027}, {\u0027name\u0027: \u0027Sex\u0027, \u0027type\u0027: \u0027string\u0027}, {\u0027name\u0027: \u0027Race\u0027, \u0027type\u0027: \u0027string\u0027}, {\u0027name\u0027: \u0027Infection Status\u0027, \u0027type\u0027: \u0027string\u0027}, {\u0027name\u0027: \u0027ECMO\u0027, \u0027type\u0027: \u0027boolean\u0027}, {\u0027name\u0027: \u0027PELOD\u0027, \u0027type\u0027: \u0027double\u0027}, {\u0027name\u0027: \u0027PRISM\u0027, \u0027type\u0027: \u0027double\u0027}, {\u0027name\u0027: \u0027Age_years\u0027, \u0027type\u0027: \u0027double\u0027}, {\u0027name\u0027: \u0027TNFSF8\u0027, \u0027type\u0027: \u0027double\u0027}, {\u0027name\u0027: \u0027TLR5\u0027, \u0027type\u0027: \u0027double\u0027}, {\u0027name\u0027: \u0027SYK\u0027, \u0027type\u0027: \u0027double\u0027}, {\u0027name\u0027: \u0027PRDM1\u0027, \u0027type\u0027: \u0027double\u0027}, {\u0027name\u0027: \u0027LTB4R\u0027, \u0027type\u0027: \u0027double\u0027}, {\u0027name\u0027: \u0027LILRA3\u0027, \u0027type\u0027: \u0027double\u0027}, {\u0027name\u0027: \u0027IRF7\u0027, \u0027type\u0027: \u0027double\u0027}, {\u0027name\u0027: \u0027IL6\u0027, \u0027type\u0027: \u0027double\u0027}, {\u0027name\u0027: \u0027IL1RN\u0027, \u0027type\u0027: \u0027double\u0027}, {\u0027name\u0027: \u0027IL1R2\u0027, \u0027type\u0027: \u0027double\u0027}, {\u0027name\u0027: \u0027IL18RAP\u0027, \u0027type\u0027: \u0027double\u0027}, {\u0027name\u0027: \u0027IL16\u0027, \u0027type\u0027: \u0027double\u0027}, {\u0027name\u0027: \u0027IKZF2\u0027, \u0027type\u0027: \u0027double\u0027}, {\u0027name\u0027: \u0027HAMP\u0027, \u0027type\u0027: \u0027double\u0027}, {\u0027name\u0027: \u0027FKBP5\u0027, \u0027type\u0027: \u0027double\u0027}, {\u0027name\u0027: \u0027FCGR3A/B\u0027, \u0027type\u0027: \u0027double\u0027}, {\u0027name\u0027: \u0027EGR1\u0027, \u0027type\u0027: \u0027double\u0027}, {\u0027name\u0027: \u0027DPP4\u0027, \u0027type\u0027: \u0027double\u0027}, {\u0027name\u0027: \u0027CXCR1\u0027, \u0027type\u0027: \u0027double\u0027}, {\u0027name\u0027: \u0027CSF2RB\u0027, \u0027type\u0027: \u0027double\u0027}, {\u0027name\u0027: \u0027CLEC4E\u0027, \u0027type\u0027: \u0027double\u0027}, {\u0027name\u0027: \u0027CFD\u0027, \u0027type\u0027: \u0027double\u0027}, {\u0027name\u0027: \u0027CD9\u0027, \u0027type\u0027: \u0027double\u0027}, {\u0027name\u0027: \u0027VFD\u0027, \u0027type\u0027: \u0027bigint\u0027}], \u0027userModified\u0027: False}\n\nml_dataset_handle \u003d dataiku.Dataset(\u0027Features_topn_smogned\u0027)\nml_dataset_handle.set_preparation_steps(preparation_steps, preparation_output_schema)\n%time ml_dataset \u003d ml_dataset_handle.get_dataframe(limit \u003d 100000)\n\nprint (\u0027Base data has %i rows and %i columns\u0027 % (ml_dataset.shape[0], ml_dataset.shape[1]))\n# Five first records\",\nml_dataset.head(5)"
      ]
    },
    {
      "cell_type": "markdown",
      "metadata": {},
      "source": [
        "#### Initial data management"
      ]
    },
    {
      "cell_type": "markdown",
      "metadata": {},
      "source": [
        "The preprocessing aims at making the dataset compatible with modeling.\nAt the end of this step, we will have a matrix of float numbers, with no missing values.\nWe\u0027ll use the features and the preprocessing steps defined in Models.\n\nLet\u0027s only keep selected features"
      ]
    },
    {
      "cell_type": "code",
      "execution_count": 0,
      "metadata": {
        "collapsed": false
      },
      "outputs": [],
      "source": [
        "ml_dataset \u003d ml_dataset[[\u0027CFD\u0027, \u0027IL1RN\u0027, \u0027Sex\u0027, \u0027CSF2RB\u0027, \u0027PELOD\u0027, \u0027PRDM1\u0027, \u0027IKZF2\u0027, \u0027LILRA3\u0027, \u0027LTB4R\u0027, \u0027DPP4\u0027, \u0027IL18RAP\u0027, \u0027CXCR1\u0027, \u0027Infection Status\u0027, \u0027VFD\u0027, \u0027Race\u0027, \u0027FCGR3A/B\u0027, \u0027ECMO\u0027, \u0027EGR1\u0027, \u0027SYK\u0027, \u0027IL1R2\u0027, \u0027IL16\u0027, \u0027PRISM\u0027, \u0027IL6\u0027, \u0027Age_years\u0027, \u0027IRF7\u0027, \u0027CD9\u0027, \u0027TNFSF8\u0027, \u0027TLR5\u0027, \u0027CLEC4E\u0027, \u0027HAMP\u0027, \u0027FKBP5\u0027]]"
      ]
    },
    {
      "cell_type": "markdown",
      "metadata": {},
      "source": [
        "Let\u0027s first coerce categorical columns into unicode, numerical features into floats."
      ]
    },
    {
      "cell_type": "code",
      "execution_count": 0,
      "metadata": {
        "collapsed": false
      },
      "outputs": [],
      "source": [
        "# astype(\u0027unicode\u0027) does not work as expected\n\ndef coerce_to_unicode(x):\n    if sys.version_info \u003c (3, 0):\n        if isinstance(x, str):\n            return unicode(x,\u0027utf-8\u0027)\n        else:\n            return unicode(x)\n    else:\n        return str(x)\n\n\ncategorical_features \u003d [\u0027Sex\u0027, \u0027Infection Status\u0027, \u0027Race\u0027, \u0027ECMO\u0027]\nnumerical_features \u003d [\u0027CFD\u0027, \u0027IL1RN\u0027, \u0027CSF2RB\u0027, \u0027PELOD\u0027, \u0027PRDM1\u0027, \u0027IKZF2\u0027, \u0027LILRA3\u0027, \u0027LTB4R\u0027, \u0027DPP4\u0027, \u0027IL18RAP\u0027, \u0027CXCR1\u0027, \u0027FCGR3A/B\u0027, \u0027EGR1\u0027, \u0027SYK\u0027, \u0027IL1R2\u0027, \u0027IL16\u0027, \u0027PRISM\u0027, \u0027IL6\u0027, \u0027Age_years\u0027, \u0027IRF7\u0027, \u0027CD9\u0027, \u0027TNFSF8\u0027, \u0027TLR5\u0027, \u0027CLEC4E\u0027, \u0027HAMP\u0027, \u0027FKBP5\u0027]\ntext_features \u003d []\nfrom dataiku.doctor.utils import datetime_to_epoch\nfor feature in categorical_features:\n    ml_dataset[feature] \u003d ml_dataset[feature].apply(coerce_to_unicode)\nfor feature in text_features:\n    ml_dataset[feature] \u003d ml_dataset[feature].apply(coerce_to_unicode)\nfor feature in numerical_features:\n    if ml_dataset[feature].dtype \u003d\u003d np.dtype(\u0027M8[ns]\u0027) or (hasattr(ml_dataset[feature].dtype, \u0027base\u0027) and ml_dataset[feature].dtype.base \u003d\u003d np.dtype(\u0027M8[ns]\u0027)):\n        ml_dataset[feature] \u003d datetime_to_epoch(ml_dataset[feature])\n    else:\n        ml_dataset[feature] \u003d ml_dataset[feature].astype(\u0027double\u0027)"
      ]
    },
    {
      "cell_type": "markdown",
      "metadata": {},
      "source": [
        "We renamed the target variable to a column named target"
      ]
    },
    {
      "cell_type": "code",
      "execution_count": 0,
      "metadata": {
        "collapsed": false
      },
      "outputs": [],
      "source": [
        "ml_dataset[\u0027__target__\u0027] \u003d ml_dataset[\u0027VFD\u0027]\ndel ml_dataset[\u0027VFD\u0027]\n\n\n# Remove rows for which the target is unknown.\nml_dataset \u003d ml_dataset[~ml_dataset[\u0027__target__\u0027].isnull()]"
      ]
    },
    {
      "cell_type": "markdown",
      "metadata": {},
      "source": [
        "#### Cross-validation strategy"
      ]
    },
    {
      "cell_type": "markdown",
      "metadata": {},
      "source": [
        "The dataset needs to be split into 2 new sets, one that will be used for training the model (train set)\nand another that will be used to test its generalization capability (test set)"
      ]
    },
    {
      "cell_type": "markdown",
      "metadata": {},
      "source": [
        "This is a simple cross-validation strategy."
      ]
    },
    {
      "cell_type": "code",
      "execution_count": 0,
      "metadata": {
        "collapsed": false
      },
      "outputs": [],
      "source": [
        "train, test \u003d pdu.split_train_valid(ml_dataset, prop\u003d0.8)\nprint (\u0027Train data has %i rows and %i columns\u0027 % (train.shape[0], train.shape[1]))\nprint (\u0027Test data has %i rows and %i columns\u0027 % (test.shape[0], test.shape[1]))"
      ]
    },
    {
      "cell_type": "markdown",
      "metadata": {},
      "source": [
        "#### Features preprocessing"
      ]
    },
    {
      "cell_type": "markdown",
      "metadata": {},
      "source": [
        "The first thing to do at the features level is to handle the missing values.\nLet\u0027s reuse the settings defined in the model"
      ]
    },
    {
      "cell_type": "code",
      "execution_count": 0,
      "metadata": {
        "collapsed": false
      },
      "outputs": [],
      "source": [
        "drop_rows_when_missing \u003d []\nimpute_when_missing \u003d [{\u0027feature\u0027: \u0027CFD\u0027, \u0027impute_with\u0027: \u0027MEAN\u0027}, {\u0027feature\u0027: \u0027IL1RN\u0027, \u0027impute_with\u0027: \u0027MEAN\u0027}, {\u0027feature\u0027: \u0027CSF2RB\u0027, \u0027impute_with\u0027: \u0027MEAN\u0027}, {\u0027feature\u0027: \u0027PELOD\u0027, \u0027impute_with\u0027: \u0027MEAN\u0027}, {\u0027feature\u0027: \u0027PRDM1\u0027, \u0027impute_with\u0027: \u0027MEAN\u0027}, {\u0027feature\u0027: \u0027IKZF2\u0027, \u0027impute_with\u0027: \u0027MEAN\u0027}, {\u0027feature\u0027: \u0027LILRA3\u0027, \u0027impute_with\u0027: \u0027MEAN\u0027}, {\u0027feature\u0027: \u0027LTB4R\u0027, \u0027impute_with\u0027: \u0027MEAN\u0027}, {\u0027feature\u0027: \u0027DPP4\u0027, \u0027impute_with\u0027: \u0027MEAN\u0027}, {\u0027feature\u0027: \u0027IL18RAP\u0027, \u0027impute_with\u0027: \u0027MEAN\u0027}, {\u0027feature\u0027: \u0027CXCR1\u0027, \u0027impute_with\u0027: \u0027MEAN\u0027}, {\u0027feature\u0027: \u0027FCGR3A/B\u0027, \u0027impute_with\u0027: \u0027MEAN\u0027}, {\u0027feature\u0027: \u0027EGR1\u0027, \u0027impute_with\u0027: \u0027MEAN\u0027}, {\u0027feature\u0027: \u0027SYK\u0027, \u0027impute_with\u0027: \u0027MEAN\u0027}, {\u0027feature\u0027: \u0027IL1R2\u0027, \u0027impute_with\u0027: \u0027MEAN\u0027}, {\u0027feature\u0027: \u0027IL16\u0027, \u0027impute_with\u0027: \u0027MEAN\u0027}, {\u0027feature\u0027: \u0027PRISM\u0027, \u0027impute_with\u0027: \u0027MEAN\u0027}, {\u0027feature\u0027: \u0027IL6\u0027, \u0027impute_with\u0027: \u0027MEAN\u0027}, {\u0027feature\u0027: \u0027Age_years\u0027, \u0027impute_with\u0027: \u0027MEAN\u0027}, {\u0027feature\u0027: \u0027IRF7\u0027, \u0027impute_with\u0027: \u0027MEAN\u0027}, {\u0027feature\u0027: \u0027CD9\u0027, \u0027impute_with\u0027: \u0027MEAN\u0027}, {\u0027feature\u0027: \u0027TNFSF8\u0027, \u0027impute_with\u0027: \u0027MEAN\u0027}, {\u0027feature\u0027: \u0027TLR5\u0027, \u0027impute_with\u0027: \u0027MEAN\u0027}, {\u0027feature\u0027: \u0027CLEC4E\u0027, \u0027impute_with\u0027: \u0027MEAN\u0027}, {\u0027feature\u0027: \u0027HAMP\u0027, \u0027impute_with\u0027: \u0027MEAN\u0027}, {\u0027feature\u0027: \u0027FKBP5\u0027, \u0027impute_with\u0027: \u0027MEAN\u0027}]\n\n# Features for which we drop rows with missing values\"\nfor feature in drop_rows_when_missing:\n    train \u003d train[train[feature].notnull()]\n    test \u003d test[test[feature].notnull()]\n    print (\u0027Dropped missing records in %s\u0027 % feature)\n\n# Features for which we impute missing values\"\nfor feature in impute_when_missing:\n    if feature[\u0027impute_with\u0027] \u003d\u003d \u0027MEAN\u0027:\n        v \u003d train[feature[\u0027feature\u0027]].mean()\n    elif feature[\u0027impute_with\u0027] \u003d\u003d \u0027MEDIAN\u0027:\n        v \u003d train[feature[\u0027feature\u0027]].median()\n    elif feature[\u0027impute_with\u0027] \u003d\u003d \u0027CREATE_CATEGORY\u0027:\n        v \u003d \u0027NULL_CATEGORY\u0027\n    elif feature[\u0027impute_with\u0027] \u003d\u003d \u0027MODE\u0027:\n        v \u003d train[feature[\u0027feature\u0027]].value_counts().index[0]\n    elif feature[\u0027impute_with\u0027] \u003d\u003d \u0027CONSTANT\u0027:\n        v \u003d feature[\u0027value\u0027]\n    train[feature[\u0027feature\u0027]] \u003d train[feature[\u0027feature\u0027]].fillna(v)\n    test[feature[\u0027feature\u0027]] \u003d test[feature[\u0027feature\u0027]].fillna(v)\n    print (\u0027Imputed missing values in feature %s with value %s\u0027 % (feature[\u0027feature\u0027], coerce_to_unicode(v)))"
      ]
    },
    {
      "cell_type": "markdown",
      "metadata": {},
      "source": [
        "We can now handle the categorical features (still using the settings defined in Models):"
      ]
    },
    {
      "cell_type": "markdown",
      "metadata": {},
      "source": [
        "Let\u0027s dummy-encode the following features.\nA binary column is created for each of the 100 most frequent values."
      ]
    },
    {
      "cell_type": "code",
      "execution_count": 0,
      "metadata": {
        "collapsed": false
      },
      "outputs": [],
      "source": [
        "LIMIT_DUMMIES \u003d 100\n\ncategorical_to_dummy_encode \u003d [\u0027Sex\u0027, \u0027Infection Status\u0027, \u0027Race\u0027, \u0027ECMO\u0027]\n\n# Only keep the top 100 values\ndef select_dummy_values(train, features):\n    dummy_values \u003d {}\n    for feature in categorical_to_dummy_encode:\n        values \u003d [\n            value\n            for (value, _) in Counter(train[feature]).most_common(LIMIT_DUMMIES)\n        ]\n        dummy_values[feature] \u003d values\n    return dummy_values\n\nDUMMY_VALUES \u003d select_dummy_values(train, categorical_to_dummy_encode)\n\ndef dummy_encode_dataframe(df):\n    for (feature, dummy_values) in DUMMY_VALUES.items():\n        for dummy_value in dummy_values:\n            dummy_name \u003d u\u0027%s_value_%s\u0027 % (feature, coerce_to_unicode(dummy_value))\n            df[dummy_name] \u003d (df[feature] \u003d\u003d dummy_value).astype(float)\n        del df[feature]\n        print (\u0027Dummy-encoded feature %s\u0027 % feature)\n\ndummy_encode_dataframe(train)\n\ndummy_encode_dataframe(test)"
      ]
    },
    {
      "cell_type": "markdown",
      "metadata": {},
      "source": [
        "Let\u0027s rescale numerical features"
      ]
    },
    {
      "cell_type": "code",
      "execution_count": 0,
      "metadata": {
        "collapsed": false
      },
      "outputs": [],
      "source": [
        "rescale_features \u003d {\u0027CFD\u0027: \u0027AVGSTD\u0027, \u0027IL1RN\u0027: \u0027AVGSTD\u0027, \u0027CSF2RB\u0027: \u0027AVGSTD\u0027, \u0027PELOD\u0027: \u0027AVGSTD\u0027, \u0027PRDM1\u0027: \u0027AVGSTD\u0027, \u0027IKZF2\u0027: \u0027AVGSTD\u0027, \u0027LILRA3\u0027: \u0027AVGSTD\u0027, \u0027LTB4R\u0027: \u0027AVGSTD\u0027, \u0027DPP4\u0027: \u0027AVGSTD\u0027, \u0027IL18RAP\u0027: \u0027AVGSTD\u0027, \u0027CXCR1\u0027: \u0027AVGSTD\u0027, \u0027FCGR3A/B\u0027: \u0027AVGSTD\u0027, \u0027EGR1\u0027: \u0027AVGSTD\u0027, \u0027SYK\u0027: \u0027AVGSTD\u0027, \u0027IL1R2\u0027: \u0027AVGSTD\u0027, \u0027IL16\u0027: \u0027AVGSTD\u0027, \u0027PRISM\u0027: \u0027AVGSTD\u0027, \u0027IL6\u0027: \u0027AVGSTD\u0027, \u0027Age_years\u0027: \u0027AVGSTD\u0027, \u0027IRF7\u0027: \u0027AVGSTD\u0027, \u0027CD9\u0027: \u0027AVGSTD\u0027, \u0027TNFSF8\u0027: \u0027AVGSTD\u0027, \u0027TLR5\u0027: \u0027AVGSTD\u0027, \u0027CLEC4E\u0027: \u0027AVGSTD\u0027, \u0027HAMP\u0027: \u0027AVGSTD\u0027, \u0027FKBP5\u0027: \u0027AVGSTD\u0027}\nfor (feature_name, rescale_method) in rescale_features.items():\n    if rescale_method \u003d\u003d \u0027MINMAX\u0027:\n        _min \u003d train[feature_name].min()\n        _max \u003d train[feature_name].max()\n        scale \u003d _max - _min\n        shift \u003d _min\n    else:\n        shift \u003d train[feature_name].mean()\n        scale \u003d train[feature_name].std()\n    if scale \u003d\u003d 0.:\n        del train[feature_name]\n        del test[feature_name]\n        print (\u0027Feature %s was dropped because it has no variance\u0027 % feature_name)\n    else:\n        print (\u0027Rescaled %s\u0027 % feature_name)\n        train[feature_name] \u003d (train[feature_name] - shift).astype(np.float64) / scale\n        test[feature_name] \u003d (test[feature_name] - shift).astype(np.float64) / scale"
      ]
    },
    {
      "cell_type": "markdown",
      "metadata": {},
      "source": [
        "#### Modeling"
      ]
    },
    {
      "cell_type": "markdown",
      "metadata": {},
      "source": [
        "Before actually creating our model, we need to split the datasets into their features and labels parts:"
      ]
    },
    {
      "cell_type": "code",
      "execution_count": 0,
      "metadata": {
        "collapsed": false
      },
      "outputs": [],
      "source": [
        "X_train \u003d train.drop(\u0027__target__\u0027, axis\u003d1)\nX_test \u003d test.drop(\u0027__target__\u0027, axis\u003d1)\n\ny_train \u003d np.array(train[\u0027__target__\u0027])\ny_test \u003d np.array(test[\u0027__target__\u0027])"
      ]
    },
    {
      "cell_type": "markdown",
      "metadata": {},
      "source": [
        "Now we can finally create our model!"
      ]
    },
    {
      "cell_type": "code",
      "execution_count": 0,
      "metadata": {
        "collapsed": false
      },
      "outputs": [],
      "source": [
        "import xgboost as xgb\nclf \u003d xgb.XGBRegressor(\n                    max_depth\u003d3,\n                    learning_rate\u003d0.2,\n                    gamma\u003d0.0,\n                    min_child_weight\u003d1.0,\n                    max_delta_step\u003d0.0,\n                    subsample\u003d1.0,\n                    colsample_bytree\u003d1.0,\n                    colsample_bylevel\u003d1.0,\n                    reg_alpha\u003d0.0,\n                    reg_lambda\u003d1.0,\n                    n_estimators\u003d19,\n                    silent\u003d0,\n                    nthread\u003d4,\n                    scale_pos_weight\u003d1.0,\n                    base_score\u003d0.5,\n                    seed\u003d1337,\n                    missing\u003dNone,\n                  )"
      ]
    },
    {
      "cell_type": "markdown",
      "metadata": {},
      "source": [
        "... And train the model"
      ]
    },
    {
      "cell_type": "code",
      "execution_count": 0,
      "metadata": {
        "collapsed": false
      },
      "outputs": [],
      "source": [
        "%time clf.fit(X_train, y_train)"
      ]
    },
    {
      "cell_type": "markdown",
      "metadata": {},
      "source": [
        "Build up our result dataset"
      ]
    },
    {
      "cell_type": "code",
      "execution_count": 0,
      "metadata": {
        "collapsed": false
      },
      "outputs": [],
      "source": [
        "%time _predictions \u003d clf.predict(X_test)\npredictions \u003d pd.Series(data\u003d_predictions, index\u003dX_test.index, name\u003d\u0027predicted_value\u0027)\n\n# Build scored dataset\nresults_test \u003d X_test.join(predictions, how\u003d\u0027left\u0027)\nresults_test \u003d results_test.join(test[\u0027__target__\u0027], how\u003d\u0027left\u0027)\nresults_test \u003d results_test.rename(columns\u003d {\u0027__target__\u0027: \u0027VFD\u0027})"
      ]
    },
    {
      "cell_type": "markdown",
      "metadata": {},
      "source": [
        "#### Results"
      ]
    },
    {
      "cell_type": "markdown",
      "metadata": {},
      "source": [
        "You can measure the model\u0027s accuracy:"
      ]
    },
    {
      "cell_type": "code",
      "execution_count": 0,
      "metadata": {
        "collapsed": false
      },
      "outputs": [],
      "source": [
        "c \u003d  results_test[[\u0027predicted_value\u0027, \u0027VFD\u0027]].corr()\nprint (\u0027Pearson correlation: %s\u0027 % c[\u0027predicted_value\u0027][1])"
      ]
    },
    {
      "cell_type": "markdown",
      "metadata": {},
      "source": [
        "That\u0027s it. It\u0027s now up to you to tune your preprocessing, your algo, and your analysis !\n"
      ]
    }
  ]
}