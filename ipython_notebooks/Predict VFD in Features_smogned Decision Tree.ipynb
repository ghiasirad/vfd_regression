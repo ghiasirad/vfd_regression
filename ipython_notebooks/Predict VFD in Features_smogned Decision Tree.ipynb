{
  "metadata": {
    "kernelspec": {
      "display_name": "Python 3",
      "language": "python",
      "name": "python3"
    },
    "language_info": {
      "codemirror_mode": {
        "name": "ipython",
        "version": 2
      },
      "file_extension": ".py",
      "mimetype": "text/x-python",
      "name": "python",
      "nbconvert_exporter": "python"
    },
    "name": "Predicting VFD in Features_smogned"
  },
  "nbformat": 4,
  "nbformat_minor": 0,
  "cells": [
    {
      "cell_type": "markdown",
      "metadata": {},
      "source": [
        "# Predicting VFD in Features_smogned"
      ]
    },
    {
      "cell_type": "markdown",
      "metadata": {},
      "source": [
        "### Notebook automatically generated from your model"
      ]
    },
    {
      "cell_type": "markdown",
      "metadata": {},
      "source": [
        "Model Decision Tree (All Models), trained on 2021-12-07 19:20:24."
      ]
    },
    {
      "cell_type": "markdown",
      "metadata": {},
      "source": [
        "#### Generated on 2021-12-08 00:23:01.529009"
      ]
    },
    {
      "cell_type": "markdown",
      "metadata": {},
      "source": [
        "prediction\nThis notebook will reproduce the steps for a REGRESSION on  Features_smogned.\nThe main objective is to predict the variable VFD"
      ]
    },
    {
      "cell_type": "markdown",
      "metadata": {},
      "source": [
        "#### Warning"
      ]
    },
    {
      "cell_type": "markdown",
      "metadata": {},
      "source": [
        "The goal of this notebook is to provide an easily readable and explainable code that reproduces the main steps\nof training the model. It is not complete: some of the preprocessing done by the DSS visual machine learning is not\nreplicated in this notebook. This notebook will not give the same results and model performance as the DSS visual machine\nlearning model."
      ]
    },
    {
      "cell_type": "markdown",
      "metadata": {},
      "source": [
        "Let\u0027s start with importing the required libs :"
      ]
    },
    {
      "cell_type": "code",
      "execution_count": 0,
      "metadata": {
        "collapsed": false
      },
      "outputs": [],
      "source": [
        "import sys\nimport dataiku\nimport numpy as np\nimport pandas as pd\nimport sklearn as sk\nimport dataiku.core.pandasutils as pdu\nfrom dataiku.doctor.preprocessing import PCA\nfrom collections import defaultdict, Counter"
      ]
    },
    {
      "cell_type": "markdown",
      "metadata": {},
      "source": [
        "And tune pandas display options:"
      ]
    },
    {
      "cell_type": "code",
      "execution_count": 0,
      "metadata": {
        "collapsed": false
      },
      "outputs": [],
      "source": [
        "pd.set_option(\u0027display.width\u0027, 3000)\npd.set_option(\u0027display.max_rows\u0027, 200)\npd.set_option(\u0027display.max_columns\u0027, 200)"
      ]
    },
    {
      "cell_type": "markdown",
      "metadata": {},
      "source": [
        "#### Importing base data"
      ]
    },
    {
      "cell_type": "markdown",
      "metadata": {},
      "source": [
        "The first step is to get our machine learning dataset:"
      ]
    },
    {
      "cell_type": "code",
      "execution_count": 0,
      "metadata": {
        "collapsed": false
      },
      "outputs": [],
      "source": [
        "# We apply the preparation that you defined. You should not modify this.\npreparation_steps \u003d []\npreparation_output_schema \u003d {\u0027columns\u0027: [{\u0027name\u0027: \u0027StudyID_Int\u0027, \u0027type\u0027: \u0027bigint\u0027}, {\u0027name\u0027: \u00271-Methyl-histidine\u0027, \u0027type\u0027: \u0027double\u0027}, {\u0027name\u0027: \u00273-Hydroxy-tyrosine\u0027, \u0027type\u0027: \u0027double\u0027}, {\u0027name\u0027: \u00273-Methyl-histidine\u0027, \u0027type\u0027: \u0027double\u0027}, {\u0027name\u0027: \u00274-Aminobenzoic acid\u0027, \u0027type\u0027: \u0027double\u0027}, {\u0027name\u0027: \u00274-Aminobutyric acid\u0027, \u0027type\u0027: \u0027double\u0027}, {\u0027name\u0027: \u00274-Hydroxyproline\u0027, \u0027type\u0027: \u0027double\u0027}, {\u0027name\u0027: \u0027Alanine\u0027, \u0027type\u0027: \u0027double\u0027}, {\u0027name\u0027: \u0027Alanyl-alanine\u0027, \u0027type\u0027: \u0027double\u0027}, {\u0027name\u0027: \u0027α-Aminoadipic acid\u0027, \u0027type\u0027: \u0027double\u0027}, {\u0027name\u0027: \u0027α-Aminobutyric acid\u0027, \u0027type\u0027: \u0027double\u0027}, {\u0027name\u0027: \u0027Anserine\u0027, \u0027type\u0027: \u0027double\u0027}, {\u0027name\u0027: \u0027Arginine\u0027, \u0027type\u0027: \u0027double\u0027}, {\u0027name\u0027: \u0027Asparagine\u0027, \u0027type\u0027: \u0027double\u0027}, {\u0027name\u0027: \u0027Aspartic acid\u0027, \u0027type\u0027: \u0027double\u0027}, {\u0027name\u0027: \u0027β-Alanine\u0027, \u0027type\u0027: \u0027double\u0027}, {\u0027name\u0027: \u0027β-Aminobutyric acid\u0027, \u0027type\u0027: \u0027double\u0027}, {\u0027name\u0027: \u0027β-Aminoisobutyric acid\u0027, \u0027type\u0027: \u0027double\u0027}, {\u0027name\u0027: \u0027Carnosine\u0027, \u0027type\u0027: \u0027double\u0027}, {\u0027name\u0027: \u0027Citrulline\u0027, \u0027type\u0027: \u0027double\u0027}, {\u0027name\u0027: \u0027Cysteine\u0027, \u0027type\u0027: \u0027double\u0027}, {\u0027name\u0027: \u0027Cystine\u0027, \u0027type\u0027: \u0027double\u0027}, {\u0027name\u0027: \u0027Ethanolamine\u0027, \u0027type\u0027: \u0027double\u0027}, {\u0027name\u0027: \u0027γ-Glutamyl-ε-lysine\u0027, \u0027type\u0027: \u0027double\u0027}, {\u0027name\u0027: \u0027Glutamic acid\u0027, \u0027type\u0027: \u0027double\u0027}, {\u0027name\u0027: \u0027Glutamine\u0027, \u0027type\u0027: \u0027double\u0027}, {\u0027name\u0027: \u0027Glycine\u0027, \u0027type\u0027: \u0027double\u0027}, {\u0027name\u0027: \u0027Glycine-proline\u0027, \u0027type\u0027: \u0027double\u0027}, {\u0027name\u0027: \u0027Histamine\u0027, \u0027type\u0027: \u0027double\u0027}, {\u0027name\u0027: \u0027Histidine\u0027, \u0027type\u0027: \u0027double\u0027}, {\u0027name\u0027: \u0027Homocystine\u0027, \u0027type\u0027: \u0027double\u0027}, {\u0027name\u0027: \u0027Homoserine\u0027, \u0027type\u0027: \u0027double\u0027}, {\u0027name\u0027: \u0027Isoleucine\u0027, \u0027type\u0027: \u0027double\u0027}, {\u0027name\u0027: \u0027Leucine\u0027, \u0027type\u0027: \u0027double\u0027}, {\u0027name\u0027: \u0027Lysine\u0027, \u0027type\u0027: \u0027double\u0027}, {\u0027name\u0027: \u0027Methionine\u0027, \u0027type\u0027: \u0027double\u0027}, {\u0027name\u0027: \u0027Methionine sulfoxide\u0027, \u0027type\u0027: \u0027double\u0027}, {\u0027name\u0027: \u0027Ornithine\u0027, \u0027type\u0027: \u0027double\u0027}, {\u0027name\u0027: \u0027Phenylalanine\u0027, \u0027type\u0027: \u0027double\u0027}, {\u0027name\u0027: \u0027Pipecolic acid\u0027, \u0027type\u0027: \u0027double\u0027}, {\u0027name\u0027: \u0027Proline\u0027, \u0027type\u0027: \u0027double\u0027}, {\u0027name\u0027: \u0027Proline-hydroxyproline\u0027, \u0027type\u0027: \u0027double\u0027}, {\u0027name\u0027: \u0027Pyroglutamic acid\u0027, \u0027type\u0027: \u0027double\u0027}, {\u0027name\u0027: \u0027Sarcosine\u0027, \u0027type\u0027: \u0027double\u0027}, {\u0027name\u0027: \u0027Seleno-methionine\u0027, \u0027type\u0027: \u0027double\u0027}, {\u0027name\u0027: \u0027Serine\u0027, \u0027type\u0027: \u0027double\u0027}, {\u0027name\u0027: \u0027Thiaproline\u0027, \u0027type\u0027: \u0027double\u0027}, {\u0027name\u0027: \u0027Threonine\u0027, \u0027type\u0027: \u0027double\u0027}, {\u0027name\u0027: \u0027Tryptophan\u0027, \u0027type\u0027: \u0027double\u0027}, {\u0027name\u0027: \u0027Tyrosine\u0027, \u0027type\u0027: \u0027double\u0027}, {\u0027name\u0027: \u0027Valine\u0027, \u0027type\u0027: \u0027double\u0027}, {\u0027name\u0027: \u0027Sex\u0027, \u0027type\u0027: \u0027string\u0027}, {\u0027name\u0027: \u0027Race\u0027, \u0027type\u0027: \u0027string\u0027}, {\u0027name\u0027: \u0027Infection Status\u0027, \u0027type\u0027: \u0027string\u0027}, {\u0027name\u0027: \u0027ECMO\u0027, \u0027type\u0027: \u0027boolean\u0027}, {\u0027name\u0027: \u0027Age_years\u0027, \u0027type\u0027: \u0027double\u0027}, {\u0027name\u0027: \u0027PRISM\u0027, \u0027type\u0027: \u0027bigint\u0027}, {\u0027name\u0027: \u0027PELOD\u0027, \u0027type\u0027: \u0027bigint\u0027}, {\u0027name\u0027: \u0027VFD\u0027, \u0027type\u0027: \u0027bigint\u0027}], \u0027userModified\u0027: False}\n\nml_dataset_handle \u003d dataiku.Dataset(\u0027Features_smogned\u0027)\nml_dataset_handle.set_preparation_steps(preparation_steps, preparation_output_schema)\n%time ml_dataset \u003d ml_dataset_handle.get_dataframe(limit \u003d 100000)\n\nprint (\u0027Base data has %i rows and %i columns\u0027 % (ml_dataset.shape[0], ml_dataset.shape[1]))\n# Five first records\",\nml_dataset.head(5)"
      ]
    },
    {
      "cell_type": "markdown",
      "metadata": {},
      "source": [
        "#### Initial data management"
      ]
    },
    {
      "cell_type": "markdown",
      "metadata": {},
      "source": [
        "The preprocessing aims at making the dataset compatible with modeling.\nAt the end of this step, we will have a matrix of float numbers, with no missing values.\nWe\u0027ll use the features and the preprocessing steps defined in Models.\n\nLet\u0027s only keep selected features"
      ]
    },
    {
      "cell_type": "code",
      "execution_count": 0,
      "metadata": {
        "collapsed": false
      },
      "outputs": [],
      "source": [
        "ml_dataset \u003d ml_dataset[[\u0027Glycine-proline\u0027, \u0027PELOD\u0027, \u0027Pipecolic acid\u0027, \u0027Histidine\u0027, \u0027VFD\u0027, \u0027Anserine\u0027, \u0027γ-Glutamyl-ε-lysine\u0027, \u0027Thiaproline\u0027, \u0027Tyrosine\u0027, \u0027Alanyl-alanine\u0027, \u0027β-Aminoisobutyric acid\u0027, \u0027Threonine\u0027, \u0027Methionine\u0027, \u0027α-Aminoadipic acid\u0027, \u0027Citrulline\u0027, \u0027PRISM\u0027, \u0027Histamine\u0027, \u00273-Hydroxy-tyrosine\u0027, \u0027Lysine\u0027, \u0027Age_years\u0027, \u00274-Aminobenzoic acid\u0027, \u0027Ornithine\u0027, \u00273-Methyl-histidine\u0027, \u00274-Hydroxyproline\u0027, \u0027Homoserine\u0027, \u0027α-Aminobutyric acid\u0027, \u0027Glutamic acid\u0027, \u0027Cysteine\u0027, \u0027Methionine sulfoxide\u0027, \u0027Serine\u0027, \u0027Sex\u0027, \u0027Proline\u0027, \u0027Proline-hydroxyproline\u0027, \u0027Carnosine\u0027, \u0027Leucine\u0027, \u0027Glycine\u0027, \u0027β-Alanine\u0027, \u0027Cystine\u0027, \u0027Arginine\u0027, \u0027Infection Status\u0027, \u0027Pyroglutamic acid\u0027, \u0027Race\u0027, \u0027Aspartic acid\u0027, \u00271-Methyl-histidine\u0027, \u0027Isoleucine\u0027, \u0027ECMO\u0027, \u0027Ethanolamine\u0027, \u0027Alanine\u0027, \u0027Phenylalanine\u0027, \u0027Tryptophan\u0027, \u0027Seleno-methionine\u0027, \u0027Valine\u0027, \u0027Sarcosine\u0027, \u0027Asparagine\u0027, \u0027β-Aminobutyric acid\u0027, \u00274-Aminobutyric acid\u0027, \u0027Homocystine\u0027, \u0027Glutamine\u0027]]"
      ]
    },
    {
      "cell_type": "markdown",
      "metadata": {},
      "source": [
        "Let\u0027s first coerce categorical columns into unicode, numerical features into floats."
      ]
    },
    {
      "cell_type": "code",
      "execution_count": 0,
      "metadata": {
        "collapsed": false
      },
      "outputs": [],
      "source": [
        "# astype(\u0027unicode\u0027) does not work as expected\n\ndef coerce_to_unicode(x):\n    if sys.version_info \u003c (3, 0):\n        if isinstance(x, str):\n            return unicode(x,\u0027utf-8\u0027)\n        else:\n            return unicode(x)\n    else:\n        return str(x)\n\n\ncategorical_features \u003d [\u0027Sex\u0027, \u0027Infection Status\u0027, \u0027Race\u0027, \u0027ECMO\u0027]\nnumerical_features \u003d [\u0027Glycine-proline\u0027, \u0027PELOD\u0027, \u0027Pipecolic acid\u0027, \u0027Histidine\u0027, \u0027Anserine\u0027, \u0027γ-Glutamyl-ε-lysine\u0027, \u0027Thiaproline\u0027, \u0027Tyrosine\u0027, \u0027Alanyl-alanine\u0027, \u0027β-Aminoisobutyric acid\u0027, \u0027Threonine\u0027, \u0027Methionine\u0027, \u0027α-Aminoadipic acid\u0027, \u0027Citrulline\u0027, \u0027PRISM\u0027, \u0027Histamine\u0027, \u00273-Hydroxy-tyrosine\u0027, \u0027Lysine\u0027, \u0027Age_years\u0027, \u00274-Aminobenzoic acid\u0027, \u0027Ornithine\u0027, \u00273-Methyl-histidine\u0027, \u00274-Hydroxyproline\u0027, \u0027Homoserine\u0027, \u0027α-Aminobutyric acid\u0027, \u0027Glutamic acid\u0027, \u0027Cysteine\u0027, \u0027Methionine sulfoxide\u0027, \u0027Serine\u0027, \u0027Proline\u0027, \u0027Proline-hydroxyproline\u0027, \u0027Carnosine\u0027, \u0027Leucine\u0027, \u0027Glycine\u0027, \u0027β-Alanine\u0027, \u0027Cystine\u0027, \u0027Arginine\u0027, \u0027Pyroglutamic acid\u0027, \u0027Aspartic acid\u0027, \u00271-Methyl-histidine\u0027, \u0027Isoleucine\u0027, \u0027Ethanolamine\u0027, \u0027Alanine\u0027, \u0027Phenylalanine\u0027, \u0027Tryptophan\u0027, \u0027Seleno-methionine\u0027, \u0027Valine\u0027, \u0027Sarcosine\u0027, \u0027Asparagine\u0027, \u0027β-Aminobutyric acid\u0027, \u00274-Aminobutyric acid\u0027, \u0027Homocystine\u0027, \u0027Glutamine\u0027]\ntext_features \u003d []\nfrom dataiku.doctor.utils import datetime_to_epoch\nfor feature in categorical_features:\n    ml_dataset[feature] \u003d ml_dataset[feature].apply(coerce_to_unicode)\nfor feature in text_features:\n    ml_dataset[feature] \u003d ml_dataset[feature].apply(coerce_to_unicode)\nfor feature in numerical_features:\n    if ml_dataset[feature].dtype \u003d\u003d np.dtype(\u0027M8[ns]\u0027) or (hasattr(ml_dataset[feature].dtype, \u0027base\u0027) and ml_dataset[feature].dtype.base \u003d\u003d np.dtype(\u0027M8[ns]\u0027)):\n        ml_dataset[feature] \u003d datetime_to_epoch(ml_dataset[feature])\n    else:\n        ml_dataset[feature] \u003d ml_dataset[feature].astype(\u0027double\u0027)"
      ]
    },
    {
      "cell_type": "markdown",
      "metadata": {},
      "source": [
        "We renamed the target variable to a column named target"
      ]
    },
    {
      "cell_type": "code",
      "execution_count": 0,
      "metadata": {
        "collapsed": false
      },
      "outputs": [],
      "source": [
        "ml_dataset[\u0027__target__\u0027] \u003d ml_dataset[\u0027VFD\u0027]\ndel ml_dataset[\u0027VFD\u0027]\n\n\n# Remove rows for which the target is unknown.\nml_dataset \u003d ml_dataset[~ml_dataset[\u0027__target__\u0027].isnull()]"
      ]
    },
    {
      "cell_type": "markdown",
      "metadata": {},
      "source": [
        "#### Cross-validation strategy"
      ]
    },
    {
      "cell_type": "markdown",
      "metadata": {},
      "source": [
        "The dataset needs to be split into 2 new sets, one that will be used for training the model (train set)\nand another that will be used to test its generalization capability (test set)"
      ]
    },
    {
      "cell_type": "markdown",
      "metadata": {},
      "source": [
        "This is a simple cross-validation strategy."
      ]
    },
    {
      "cell_type": "code",
      "execution_count": 0,
      "metadata": {
        "collapsed": false
      },
      "outputs": [],
      "source": [
        "train, test \u003d pdu.split_train_valid(ml_dataset, prop\u003d0.8)\nprint (\u0027Train data has %i rows and %i columns\u0027 % (train.shape[0], train.shape[1]))\nprint (\u0027Test data has %i rows and %i columns\u0027 % (test.shape[0], test.shape[1]))"
      ]
    },
    {
      "cell_type": "markdown",
      "metadata": {},
      "source": [
        "#### Features preprocessing"
      ]
    },
    {
      "cell_type": "markdown",
      "metadata": {},
      "source": [
        "The first thing to do at the features level is to handle the missing values.\nLet\u0027s reuse the settings defined in the model"
      ]
    },
    {
      "cell_type": "code",
      "execution_count": 0,
      "metadata": {
        "collapsed": false
      },
      "outputs": [],
      "source": [
        "drop_rows_when_missing \u003d []\nimpute_when_missing \u003d [{\u0027feature\u0027: \u0027Glycine-proline\u0027, \u0027impute_with\u0027: \u0027MEAN\u0027}, {\u0027feature\u0027: \u0027PELOD\u0027, \u0027impute_with\u0027: \u0027MEAN\u0027}, {\u0027feature\u0027: \u0027Pipecolic acid\u0027, \u0027impute_with\u0027: \u0027MEAN\u0027}, {\u0027feature\u0027: \u0027Histidine\u0027, \u0027impute_with\u0027: \u0027MEAN\u0027}, {\u0027feature\u0027: \u0027Anserine\u0027, \u0027impute_with\u0027: \u0027MEAN\u0027}, {\u0027feature\u0027: \u0027γ-Glutamyl-ε-lysine\u0027, \u0027impute_with\u0027: \u0027MEAN\u0027}, {\u0027feature\u0027: \u0027Thiaproline\u0027, \u0027impute_with\u0027: \u0027MEAN\u0027}, {\u0027feature\u0027: \u0027Tyrosine\u0027, \u0027impute_with\u0027: \u0027MEAN\u0027}, {\u0027feature\u0027: \u0027Alanyl-alanine\u0027, \u0027impute_with\u0027: \u0027MEAN\u0027}, {\u0027feature\u0027: \u0027β-Aminoisobutyric acid\u0027, \u0027impute_with\u0027: \u0027MEAN\u0027}, {\u0027feature\u0027: \u0027Threonine\u0027, \u0027impute_with\u0027: \u0027MEAN\u0027}, {\u0027feature\u0027: \u0027Methionine\u0027, \u0027impute_with\u0027: \u0027MEAN\u0027}, {\u0027feature\u0027: \u0027α-Aminoadipic acid\u0027, \u0027impute_with\u0027: \u0027MEAN\u0027}, {\u0027feature\u0027: \u0027Citrulline\u0027, \u0027impute_with\u0027: \u0027MEAN\u0027}, {\u0027feature\u0027: \u0027PRISM\u0027, \u0027impute_with\u0027: \u0027MEAN\u0027}, {\u0027feature\u0027: \u0027Histamine\u0027, \u0027impute_with\u0027: \u0027MEAN\u0027}, {\u0027feature\u0027: \u00273-Hydroxy-tyrosine\u0027, \u0027impute_with\u0027: \u0027MEAN\u0027}, {\u0027feature\u0027: \u0027Lysine\u0027, \u0027impute_with\u0027: \u0027MEAN\u0027}, {\u0027feature\u0027: \u0027Age_years\u0027, \u0027impute_with\u0027: \u0027MEAN\u0027}, {\u0027feature\u0027: \u00274-Aminobenzoic acid\u0027, \u0027impute_with\u0027: \u0027MEAN\u0027}, {\u0027feature\u0027: \u0027Ornithine\u0027, \u0027impute_with\u0027: \u0027MEAN\u0027}, {\u0027feature\u0027: \u00273-Methyl-histidine\u0027, \u0027impute_with\u0027: \u0027MEAN\u0027}, {\u0027feature\u0027: \u00274-Hydroxyproline\u0027, \u0027impute_with\u0027: \u0027MEAN\u0027}, {\u0027feature\u0027: \u0027Homoserine\u0027, \u0027impute_with\u0027: \u0027MEAN\u0027}, {\u0027feature\u0027: \u0027α-Aminobutyric acid\u0027, \u0027impute_with\u0027: \u0027MEAN\u0027}, {\u0027feature\u0027: \u0027Glutamic acid\u0027, \u0027impute_with\u0027: \u0027MEAN\u0027}, {\u0027feature\u0027: \u0027Cysteine\u0027, \u0027impute_with\u0027: \u0027MEAN\u0027}, {\u0027feature\u0027: \u0027Methionine sulfoxide\u0027, \u0027impute_with\u0027: \u0027MEAN\u0027}, {\u0027feature\u0027: \u0027Serine\u0027, \u0027impute_with\u0027: \u0027MEAN\u0027}, {\u0027feature\u0027: \u0027Proline\u0027, \u0027impute_with\u0027: \u0027MEAN\u0027}, {\u0027feature\u0027: \u0027Proline-hydroxyproline\u0027, \u0027impute_with\u0027: \u0027MEAN\u0027}, {\u0027feature\u0027: \u0027Carnosine\u0027, \u0027impute_with\u0027: \u0027MEAN\u0027}, {\u0027feature\u0027: \u0027Leucine\u0027, \u0027impute_with\u0027: \u0027MEAN\u0027}, {\u0027feature\u0027: \u0027Glycine\u0027, \u0027impute_with\u0027: \u0027MEAN\u0027}, {\u0027feature\u0027: \u0027β-Alanine\u0027, \u0027impute_with\u0027: \u0027MEAN\u0027}, {\u0027feature\u0027: \u0027Cystine\u0027, \u0027impute_with\u0027: \u0027MEAN\u0027}, {\u0027feature\u0027: \u0027Arginine\u0027, \u0027impute_with\u0027: \u0027MEAN\u0027}, {\u0027feature\u0027: \u0027Pyroglutamic acid\u0027, \u0027impute_with\u0027: \u0027MEAN\u0027}, {\u0027feature\u0027: \u0027Aspartic acid\u0027, \u0027impute_with\u0027: \u0027MEAN\u0027}, {\u0027feature\u0027: \u00271-Methyl-histidine\u0027, \u0027impute_with\u0027: \u0027MEAN\u0027}, {\u0027feature\u0027: \u0027Isoleucine\u0027, \u0027impute_with\u0027: \u0027MEAN\u0027}, {\u0027feature\u0027: \u0027Ethanolamine\u0027, \u0027impute_with\u0027: \u0027MEAN\u0027}, {\u0027feature\u0027: \u0027Alanine\u0027, \u0027impute_with\u0027: \u0027MEAN\u0027}, {\u0027feature\u0027: \u0027Phenylalanine\u0027, \u0027impute_with\u0027: \u0027MEAN\u0027}, {\u0027feature\u0027: \u0027Tryptophan\u0027, \u0027impute_with\u0027: \u0027MEAN\u0027}, {\u0027feature\u0027: \u0027Seleno-methionine\u0027, \u0027impute_with\u0027: \u0027MEAN\u0027}, {\u0027feature\u0027: \u0027Valine\u0027, \u0027impute_with\u0027: \u0027MEAN\u0027}, {\u0027feature\u0027: \u0027Sarcosine\u0027, \u0027impute_with\u0027: \u0027MEAN\u0027}, {\u0027feature\u0027: \u0027Asparagine\u0027, \u0027impute_with\u0027: \u0027MEAN\u0027}, {\u0027feature\u0027: \u0027β-Aminobutyric acid\u0027, \u0027impute_with\u0027: \u0027MEAN\u0027}, {\u0027feature\u0027: \u00274-Aminobutyric acid\u0027, \u0027impute_with\u0027: \u0027MEAN\u0027}, {\u0027feature\u0027: \u0027Homocystine\u0027, \u0027impute_with\u0027: \u0027MEAN\u0027}, {\u0027feature\u0027: \u0027Glutamine\u0027, \u0027impute_with\u0027: \u0027MEAN\u0027}]\n\n# Features for which we drop rows with missing values\"\nfor feature in drop_rows_when_missing:\n    train \u003d train[train[feature].notnull()]\n    test \u003d test[test[feature].notnull()]\n    print (\u0027Dropped missing records in %s\u0027 % feature)\n\n# Features for which we impute missing values\"\nfor feature in impute_when_missing:\n    if feature[\u0027impute_with\u0027] \u003d\u003d \u0027MEAN\u0027:\n        v \u003d train[feature[\u0027feature\u0027]].mean()\n    elif feature[\u0027impute_with\u0027] \u003d\u003d \u0027MEDIAN\u0027:\n        v \u003d train[feature[\u0027feature\u0027]].median()\n    elif feature[\u0027impute_with\u0027] \u003d\u003d \u0027CREATE_CATEGORY\u0027:\n        v \u003d \u0027NULL_CATEGORY\u0027\n    elif feature[\u0027impute_with\u0027] \u003d\u003d \u0027MODE\u0027:\n        v \u003d train[feature[\u0027feature\u0027]].value_counts().index[0]\n    elif feature[\u0027impute_with\u0027] \u003d\u003d \u0027CONSTANT\u0027:\n        v \u003d feature[\u0027value\u0027]\n    train[feature[\u0027feature\u0027]] \u003d train[feature[\u0027feature\u0027]].fillna(v)\n    test[feature[\u0027feature\u0027]] \u003d test[feature[\u0027feature\u0027]].fillna(v)\n    print (\u0027Imputed missing values in feature %s with value %s\u0027 % (feature[\u0027feature\u0027], coerce_to_unicode(v)))"
      ]
    },
    {
      "cell_type": "markdown",
      "metadata": {},
      "source": [
        "We can now handle the categorical features (still using the settings defined in Models):"
      ]
    },
    {
      "cell_type": "markdown",
      "metadata": {},
      "source": [
        "Let\u0027s dummy-encode the following features.\nA binary column is created for each of the 100 most frequent values."
      ]
    },
    {
      "cell_type": "code",
      "execution_count": 0,
      "metadata": {
        "collapsed": false
      },
      "outputs": [],
      "source": [
        "LIMIT_DUMMIES \u003d 100\n\ncategorical_to_dummy_encode \u003d [\u0027Sex\u0027, \u0027Infection Status\u0027, \u0027Race\u0027, \u0027ECMO\u0027]\n\n# Only keep the top 100 values\ndef select_dummy_values(train, features):\n    dummy_values \u003d {}\n    for feature in categorical_to_dummy_encode:\n        values \u003d [\n            value\n            for (value, _) in Counter(train[feature]).most_common(LIMIT_DUMMIES)\n        ]\n        dummy_values[feature] \u003d values\n    return dummy_values\n\nDUMMY_VALUES \u003d select_dummy_values(train, categorical_to_dummy_encode)\n\ndef dummy_encode_dataframe(df):\n    for (feature, dummy_values) in DUMMY_VALUES.items():\n        for dummy_value in dummy_values:\n            dummy_name \u003d u\u0027%s_value_%s\u0027 % (feature, coerce_to_unicode(dummy_value))\n            df[dummy_name] \u003d (df[feature] \u003d\u003d dummy_value).astype(float)\n        del df[feature]\n        print (\u0027Dummy-encoded feature %s\u0027 % feature)\n\ndummy_encode_dataframe(train)\n\ndummy_encode_dataframe(test)"
      ]
    },
    {
      "cell_type": "markdown",
      "metadata": {},
      "source": [
        "Let\u0027s rescale numerical features"
      ]
    },
    {
      "cell_type": "code",
      "execution_count": 0,
      "metadata": {
        "collapsed": false
      },
      "outputs": [],
      "source": [
        "rescale_features \u003d {\u0027Glycine-proline\u0027: \u0027AVGSTD\u0027, \u0027PELOD\u0027: \u0027AVGSTD\u0027, \u0027Pipecolic acid\u0027: \u0027AVGSTD\u0027, \u0027Histidine\u0027: \u0027AVGSTD\u0027, \u0027Anserine\u0027: \u0027AVGSTD\u0027, \u0027γ-Glutamyl-ε-lysine\u0027: \u0027AVGSTD\u0027, \u0027Thiaproline\u0027: \u0027AVGSTD\u0027, \u0027Tyrosine\u0027: \u0027AVGSTD\u0027, \u0027Alanyl-alanine\u0027: \u0027AVGSTD\u0027, \u0027β-Aminoisobutyric acid\u0027: \u0027AVGSTD\u0027, \u0027Threonine\u0027: \u0027AVGSTD\u0027, \u0027Methionine\u0027: \u0027AVGSTD\u0027, \u0027α-Aminoadipic acid\u0027: \u0027AVGSTD\u0027, \u0027Citrulline\u0027: \u0027AVGSTD\u0027, \u0027PRISM\u0027: \u0027AVGSTD\u0027, \u0027Histamine\u0027: \u0027AVGSTD\u0027, \u00273-Hydroxy-tyrosine\u0027: \u0027AVGSTD\u0027, \u0027Lysine\u0027: \u0027AVGSTD\u0027, \u0027Age_years\u0027: \u0027AVGSTD\u0027, \u00274-Aminobenzoic acid\u0027: \u0027AVGSTD\u0027, \u0027Ornithine\u0027: \u0027AVGSTD\u0027, \u00273-Methyl-histidine\u0027: \u0027AVGSTD\u0027, \u00274-Hydroxyproline\u0027: \u0027AVGSTD\u0027, \u0027Homoserine\u0027: \u0027AVGSTD\u0027, \u0027α-Aminobutyric acid\u0027: \u0027AVGSTD\u0027, \u0027Glutamic acid\u0027: \u0027AVGSTD\u0027, \u0027Cysteine\u0027: \u0027AVGSTD\u0027, \u0027Methionine sulfoxide\u0027: \u0027AVGSTD\u0027, \u0027Serine\u0027: \u0027AVGSTD\u0027, \u0027Proline\u0027: \u0027AVGSTD\u0027, \u0027Proline-hydroxyproline\u0027: \u0027AVGSTD\u0027, \u0027Carnosine\u0027: \u0027AVGSTD\u0027, \u0027Leucine\u0027: \u0027AVGSTD\u0027, \u0027Glycine\u0027: \u0027AVGSTD\u0027, \u0027β-Alanine\u0027: \u0027AVGSTD\u0027, \u0027Cystine\u0027: \u0027AVGSTD\u0027, \u0027Arginine\u0027: \u0027AVGSTD\u0027, \u0027Pyroglutamic acid\u0027: \u0027AVGSTD\u0027, \u0027Aspartic acid\u0027: \u0027AVGSTD\u0027, \u00271-Methyl-histidine\u0027: \u0027AVGSTD\u0027, \u0027Isoleucine\u0027: \u0027AVGSTD\u0027, \u0027Ethanolamine\u0027: \u0027AVGSTD\u0027, \u0027Alanine\u0027: \u0027AVGSTD\u0027, \u0027Phenylalanine\u0027: \u0027AVGSTD\u0027, \u0027Tryptophan\u0027: \u0027AVGSTD\u0027, \u0027Seleno-methionine\u0027: \u0027AVGSTD\u0027, \u0027Valine\u0027: \u0027AVGSTD\u0027, \u0027Sarcosine\u0027: \u0027AVGSTD\u0027, \u0027Asparagine\u0027: \u0027AVGSTD\u0027, \u0027β-Aminobutyric acid\u0027: \u0027AVGSTD\u0027, \u00274-Aminobutyric acid\u0027: \u0027AVGSTD\u0027, \u0027Homocystine\u0027: \u0027AVGSTD\u0027, \u0027Glutamine\u0027: \u0027AVGSTD\u0027}\nfor (feature_name, rescale_method) in rescale_features.items():\n    if rescale_method \u003d\u003d \u0027MINMAX\u0027:\n        _min \u003d train[feature_name].min()\n        _max \u003d train[feature_name].max()\n        scale \u003d _max - _min\n        shift \u003d _min\n    else:\n        shift \u003d train[feature_name].mean()\n        scale \u003d train[feature_name].std()\n    if scale \u003d\u003d 0.:\n        del train[feature_name]\n        del test[feature_name]\n        print (\u0027Feature %s was dropped because it has no variance\u0027 % feature_name)\n    else:\n        print (\u0027Rescaled %s\u0027 % feature_name)\n        train[feature_name] \u003d (train[feature_name] - shift).astype(np.float64) / scale\n        test[feature_name] \u003d (test[feature_name] - shift).astype(np.float64) / scale"
      ]
    },
    {
      "cell_type": "markdown",
      "metadata": {},
      "source": [
        "#### Modeling"
      ]
    },
    {
      "cell_type": "markdown",
      "metadata": {},
      "source": [
        "Before actually creating our model, we need to split the datasets into their features and labels parts:"
      ]
    },
    {
      "cell_type": "code",
      "execution_count": 0,
      "metadata": {
        "collapsed": false
      },
      "outputs": [],
      "source": [
        "X_train \u003d train.drop(\u0027__target__\u0027, axis\u003d1)\nX_test \u003d test.drop(\u0027__target__\u0027, axis\u003d1)\n\ny_train \u003d np.array(train[\u0027__target__\u0027])\ny_test \u003d np.array(test[\u0027__target__\u0027])"
      ]
    },
    {
      "cell_type": "markdown",
      "metadata": {},
      "source": [
        "Now we can finally create our model!"
      ]
    },
    {
      "cell_type": "code",
      "execution_count": 0,
      "metadata": {
        "collapsed": false
      },
      "outputs": [],
      "source": [
        "from sklearn.tree import DecisionTreeRegressor\nclf \u003d  DecisionTreeRegressor(\n                splitter \u003d \u0027best\u0027,\n                max_depth \u003d 5,\n                min_samples_leaf \u003d 1\n            )"
      ]
    },
    {
      "cell_type": "markdown",
      "metadata": {},
      "source": [
        "... And train the model"
      ]
    },
    {
      "cell_type": "code",
      "execution_count": 0,
      "metadata": {
        "collapsed": false
      },
      "outputs": [],
      "source": [
        "%time clf.fit(X_train, y_train)"
      ]
    },
    {
      "cell_type": "markdown",
      "metadata": {},
      "source": [
        "Build up our result dataset"
      ]
    },
    {
      "cell_type": "code",
      "execution_count": 0,
      "metadata": {
        "collapsed": false
      },
      "outputs": [],
      "source": [
        "%time _predictions \u003d clf.predict(X_test)\npredictions \u003d pd.Series(data\u003d_predictions, index\u003dX_test.index, name\u003d\u0027predicted_value\u0027)\n\n# Build scored dataset\nresults_test \u003d X_test.join(predictions, how\u003d\u0027left\u0027)\nresults_test \u003d results_test.join(test[\u0027__target__\u0027], how\u003d\u0027left\u0027)\nresults_test \u003d results_test.rename(columns\u003d {\u0027__target__\u0027: \u0027VFD\u0027})"
      ]
    },
    {
      "cell_type": "markdown",
      "metadata": {},
      "source": [
        "#### Results"
      ]
    },
    {
      "cell_type": "markdown",
      "metadata": {},
      "source": [
        "You can measure the model\u0027s accuracy:"
      ]
    },
    {
      "cell_type": "code",
      "execution_count": 0,
      "metadata": {
        "collapsed": false
      },
      "outputs": [],
      "source": [
        "c \u003d  results_test[[\u0027predicted_value\u0027, \u0027VFD\u0027]].corr()\nprint (\u0027Pearson correlation: %s\u0027 % c[\u0027predicted_value\u0027][1])"
      ]
    },
    {
      "cell_type": "markdown",
      "metadata": {},
      "source": [
        "That\u0027s it. It\u0027s now up to you to tune your preprocessing, your algo, and your analysis !\n"
      ]
    }
  ]
}